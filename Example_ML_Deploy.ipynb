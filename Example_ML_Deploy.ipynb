{
 "cells": [
  {
   "cell_type": "code",
   "execution_count": 1,
   "id": "fd5b397a-0dcc-476d-b8b2-59885af6167d",
   "metadata": {
    "tags": []
   },
   "outputs": [
    {
     "name": "stdout",
     "output_type": "stream",
     "text": [
      "Requirement already satisfied: boto3 in /home/ec2-user/anaconda3/envs/python3/lib/python3.10/site-packages (1.34.101)\n",
      "Requirement already satisfied: sagemaker in /home/ec2-user/anaconda3/envs/python3/lib/python3.10/site-packages (2.219.0)\n",
      "Requirement already satisfied: pandas in /home/ec2-user/anaconda3/envs/python3/lib/python3.10/site-packages (2.2.1)\n",
      "Requirement already satisfied: scikit-learn in /home/ec2-user/anaconda3/envs/python3/lib/python3.10/site-packages (1.4.1.post1)\n",
      "Requirement already satisfied: botocore<1.35.0,>=1.34.101 in /home/ec2-user/anaconda3/envs/python3/lib/python3.10/site-packages (from boto3) (1.34.101)\n",
      "Requirement already satisfied: jmespath<2.0.0,>=0.7.1 in /home/ec2-user/anaconda3/envs/python3/lib/python3.10/site-packages (from boto3) (1.0.1)\n",
      "Requirement already satisfied: s3transfer<0.11.0,>=0.10.0 in /home/ec2-user/anaconda3/envs/python3/lib/python3.10/site-packages (from boto3) (0.10.1)\n",
      "Requirement already satisfied: attrs<24,>=23.1.0 in /home/ec2-user/anaconda3/envs/python3/lib/python3.10/site-packages (from sagemaker) (23.2.0)\n",
      "Requirement already satisfied: cloudpickle==2.2.1 in /home/ec2-user/anaconda3/envs/python3/lib/python3.10/site-packages (from sagemaker) (2.2.1)\n",
      "Requirement already satisfied: google-pasta in /home/ec2-user/anaconda3/envs/python3/lib/python3.10/site-packages (from sagemaker) (0.2.0)\n",
      "Requirement already satisfied: numpy<2.0,>=1.9.0 in /home/ec2-user/anaconda3/envs/python3/lib/python3.10/site-packages (from sagemaker) (1.22.4)\n",
      "Requirement already satisfied: protobuf<5.0,>=3.12 in /home/ec2-user/anaconda3/envs/python3/lib/python3.10/site-packages (from sagemaker) (4.25.3)\n",
      "Requirement already satisfied: smdebug-rulesconfig==1.0.1 in /home/ec2-user/anaconda3/envs/python3/lib/python3.10/site-packages (from sagemaker) (1.0.1)\n",
      "Requirement already satisfied: importlib-metadata<7.0,>=1.4.0 in /home/ec2-user/anaconda3/envs/python3/lib/python3.10/site-packages (from sagemaker) (6.11.0)\n",
      "Requirement already satisfied: packaging>=20.0 in /home/ec2-user/anaconda3/envs/python3/lib/python3.10/site-packages (from sagemaker) (21.3)\n",
      "Requirement already satisfied: pathos in /home/ec2-user/anaconda3/envs/python3/lib/python3.10/site-packages (from sagemaker) (0.3.2)\n",
      "Requirement already satisfied: schema in /home/ec2-user/anaconda3/envs/python3/lib/python3.10/site-packages (from sagemaker) (0.7.7)\n",
      "Requirement already satisfied: PyYAML~=6.0 in /home/ec2-user/anaconda3/envs/python3/lib/python3.10/site-packages (from sagemaker) (6.0.1)\n",
      "Requirement already satisfied: jsonschema in /home/ec2-user/anaconda3/envs/python3/lib/python3.10/site-packages (from sagemaker) (4.21.1)\n",
      "Requirement already satisfied: platformdirs in /home/ec2-user/anaconda3/envs/python3/lib/python3.10/site-packages (from sagemaker) (4.2.0)\n",
      "Requirement already satisfied: tblib<4,>=1.7.0 in /home/ec2-user/anaconda3/envs/python3/lib/python3.10/site-packages (from sagemaker) (3.0.0)\n",
      "Requirement already satisfied: urllib3<3.0.0,>=1.26.8 in /home/ec2-user/anaconda3/envs/python3/lib/python3.10/site-packages (from sagemaker) (2.2.1)\n",
      "Requirement already satisfied: requests in /home/ec2-user/anaconda3/envs/python3/lib/python3.10/site-packages (from sagemaker) (2.31.0)\n",
      "Requirement already satisfied: docker in /home/ec2-user/anaconda3/envs/python3/lib/python3.10/site-packages (from sagemaker) (6.1.3)\n",
      "Requirement already satisfied: tqdm in /home/ec2-user/anaconda3/envs/python3/lib/python3.10/site-packages (from sagemaker) (4.66.2)\n",
      "Requirement already satisfied: psutil in /home/ec2-user/anaconda3/envs/python3/lib/python3.10/site-packages (from sagemaker) (5.9.8)\n",
      "Requirement already satisfied: python-dateutil>=2.8.2 in /home/ec2-user/anaconda3/envs/python3/lib/python3.10/site-packages (from pandas) (2.9.0)\n",
      "Requirement already satisfied: pytz>=2020.1 in /home/ec2-user/anaconda3/envs/python3/lib/python3.10/site-packages (from pandas) (2024.1)\n",
      "Requirement already satisfied: tzdata>=2022.7 in /home/ec2-user/anaconda3/envs/python3/lib/python3.10/site-packages (from pandas) (2024.1)\n",
      "Requirement already satisfied: scipy>=1.6.0 in /home/ec2-user/anaconda3/envs/python3/lib/python3.10/site-packages (from scikit-learn) (1.12.0)\n",
      "Requirement already satisfied: joblib>=1.2.0 in /home/ec2-user/anaconda3/envs/python3/lib/python3.10/site-packages (from scikit-learn) (1.3.2)\n",
      "Requirement already satisfied: threadpoolctl>=2.0.0 in /home/ec2-user/anaconda3/envs/python3/lib/python3.10/site-packages (from scikit-learn) (3.4.0)\n",
      "Requirement already satisfied: zipp>=0.5 in /home/ec2-user/anaconda3/envs/python3/lib/python3.10/site-packages (from importlib-metadata<7.0,>=1.4.0->sagemaker) (3.17.0)\n",
      "Requirement already satisfied: pyparsing!=3.0.5,>=2.0.2 in /home/ec2-user/anaconda3/envs/python3/lib/python3.10/site-packages (from packaging>=20.0->sagemaker) (3.1.2)\n",
      "Requirement already satisfied: six>=1.5 in /home/ec2-user/anaconda3/envs/python3/lib/python3.10/site-packages (from python-dateutil>=2.8.2->pandas) (1.16.0)\n",
      "Requirement already satisfied: websocket-client>=0.32.0 in /home/ec2-user/anaconda3/envs/python3/lib/python3.10/site-packages (from docker->sagemaker) (1.7.0)\n",
      "Requirement already satisfied: charset-normalizer<4,>=2 in /home/ec2-user/anaconda3/envs/python3/lib/python3.10/site-packages (from requests->sagemaker) (3.3.2)\n",
      "Requirement already satisfied: idna<4,>=2.5 in /home/ec2-user/anaconda3/envs/python3/lib/python3.10/site-packages (from requests->sagemaker) (3.6)\n",
      "Requirement already satisfied: certifi>=2017.4.17 in /home/ec2-user/anaconda3/envs/python3/lib/python3.10/site-packages (from requests->sagemaker) (2024.2.2)\n",
      "Requirement already satisfied: jsonschema-specifications>=2023.03.6 in /home/ec2-user/anaconda3/envs/python3/lib/python3.10/site-packages (from jsonschema->sagemaker) (2023.12.1)\n",
      "Requirement already satisfied: referencing>=0.28.4 in /home/ec2-user/anaconda3/envs/python3/lib/python3.10/site-packages (from jsonschema->sagemaker) (0.34.0)\n",
      "Requirement already satisfied: rpds-py>=0.7.1 in /home/ec2-user/anaconda3/envs/python3/lib/python3.10/site-packages (from jsonschema->sagemaker) (0.18.0)\n",
      "Requirement already satisfied: ppft>=1.7.6.8 in /home/ec2-user/anaconda3/envs/python3/lib/python3.10/site-packages (from pathos->sagemaker) (1.7.6.8)\n",
      "Requirement already satisfied: dill>=0.3.8 in /home/ec2-user/anaconda3/envs/python3/lib/python3.10/site-packages (from pathos->sagemaker) (0.3.8)\n",
      "Requirement already satisfied: pox>=0.3.4 in /home/ec2-user/anaconda3/envs/python3/lib/python3.10/site-packages (from pathos->sagemaker) (0.3.4)\n",
      "Requirement already satisfied: multiprocess>=0.70.16 in /home/ec2-user/anaconda3/envs/python3/lib/python3.10/site-packages (from pathos->sagemaker) (0.70.16)\n"
     ]
    }
   ],
   "source": [
    "!pip install boto3 sagemaker pandas scikit-learn"
   ]
  },
  {
   "cell_type": "markdown",
   "id": "6794d504-06a0-4fa0-a20d-de9d56e557c6",
   "metadata": {},
   "source": [
    "### Read the dataset"
   ]
  },
  {
   "cell_type": "code",
   "execution_count": 1,
   "id": "180ab4c7-76e3-43c2-a84d-536a8765be82",
   "metadata": {
    "tags": []
   },
   "outputs": [],
   "source": [
    "import pandas as pd\n",
    "from sklearn.datasets import load_iris\n",
    "from sklearn.model_selection import train_test_split\n",
    "\n",
    "iris = load_iris()\n",
    "X = pd.DataFrame(iris.data, columns=iris.feature_names)\n",
    "y = pd.Series(iris.target)\n",
    "\n",
    "X_train, X_test, y_train, y_test = train_test_split(X, y, test_size=0.2, random_state=42)"
   ]
  },
  {
   "cell_type": "markdown",
   "id": "6552be56-cdcf-4ae6-a47e-42bc29b8a432",
   "metadata": {},
   "source": [
    "## Connect of create an S3 Bucket\n",
    "\n",
    "1. Split the dataset into train and test\n",
    "2. Store train and test on S3"
   ]
  },
  {
   "cell_type": "code",
   "execution_count": 2,
   "id": "584730d2-dccd-4af0-ba33-42b5273db324",
   "metadata": {
    "tags": []
   },
   "outputs": [
    {
     "name": "stdout",
     "output_type": "stream",
     "text": [
      "Bucket 'example-bucket-davidres' already exists.\n"
     ]
    }
   ],
   "source": [
    "import boto3\n",
    "from botocore.exceptions import ClientError\n",
    "\n",
    "bucket_name = 'example-bucket-davidres'\n",
    "s3 = boto3.resource('s3')\n",
    "\n",
    "def create_bucket_if_not_exists(bucket_name):\n",
    "    try:\n",
    "        # Check if the bucket already exists\n",
    "        s3.meta.client.head_bucket(Bucket=bucket_name)\n",
    "        print(f\"Bucket '{bucket_name}' already exists.\")\n",
    "    except ClientError:\n",
    "        # If a client error is thrown, then the bucket does not exist\n",
    "        try:\n",
    "            s3.create_bucket(Bucket=bucket_name)\n",
    "            print(f\"Bucket '{bucket_name}' created.\")\n",
    "        except ClientError as e:\n",
    "            print(f\"Error creating bucket: {e}\")\n",
    "\n",
    "create_bucket_if_not_exists(bucket_name)"
   ]
  },
  {
   "cell_type": "markdown",
   "id": "9d88901c-e9a9-4c06-bde4-0a74795caea4",
   "metadata": {},
   "source": [
    "## Store the dataset on S3 Bucket\n",
    "\n",
    "1. Split the dataset into train and test\n",
    "2. Store train and test on S3"
   ]
  },
  {
   "cell_type": "code",
   "execution_count": 3,
   "id": "6538e836-3e88-4327-9934-2fcc10726b6a",
   "metadata": {
    "tags": []
   },
   "outputs": [],
   "source": [
    "train_data = pd.concat([y_train, X_train], axis=1)\n",
    "test_data = pd.concat([y_test, X_test], axis=1)\n",
    "\n",
    "train_data.to_csv('train.csv', index=False)\n",
    "test_data.to_csv('test.csv', index=False)\n",
    "\n",
    "s3.Bucket(bucket_name).upload_file('train.csv', 'train/train.csv')\n",
    "s3.Bucket(bucket_name).upload_file('test.csv', 'test/test.csv')"
   ]
  },
  {
   "cell_type": "markdown",
   "id": "d4a7a27b-3af8-4d42-959e-042f9aeb6eba",
   "metadata": {},
   "source": [
    "### Create and Train an XGBoost Model"
   ]
  },
  {
   "cell_type": "code",
   "execution_count": 8,
   "id": "af3df530-012c-4438-9522-c3f91618970c",
   "metadata": {
    "tags": []
   },
   "outputs": [
    {
     "name": "stdout",
     "output_type": "stream",
     "text": [
      "sagemaker.config INFO - Not applying SDK defaults from location: /etc/xdg/sagemaker/config.yaml\n",
      "sagemaker.config INFO - Not applying SDK defaults from location: /home/ec2-user/.config/sagemaker/config.yaml\n"
     ]
    },
    {
     "name": "stderr",
     "output_type": "stream",
     "text": [
      "INFO:sagemaker:Creating training-job with name: sagemaker-xgboost-2024-07-04-15-20-30-875\n"
     ]
    },
    {
     "name": "stdout",
     "output_type": "stream",
     "text": [
      "2024-07-04 15:20:31 Starting - Starting the training job...\n",
      "2024-07-04 15:20:50 Starting - Preparing the instances for training...\n",
      "2024-07-04 15:21:13 Downloading - Downloading input data...\n",
      "2024-07-04 15:21:43 Downloading - Downloading the training image......\n",
      "2024-07-04 15:22:55 Training - Training image download completed. Training in progress.\n",
      "2024-07-04 15:22:55 Uploading - Uploading generated training model\u001b[34m[2024-07-04 15:22:50.586 ip-10-2-246-86.ec2.internal:7 INFO utils.py:27] RULE_JOB_STOP_SIGNAL_FILENAME: None\u001b[0m\n",
      "\u001b[34mINFO:sagemaker-containers:Imported framework sagemaker_xgboost_container.training\u001b[0m\n",
      "\u001b[34mINFO:sagemaker-containers:Failed to parse hyperparameter objective value multi:softmax to Json.\u001b[0m\n",
      "\u001b[34mReturning the value itself\u001b[0m\n",
      "\u001b[34mINFO:sagemaker-containers:No GPUs detected (normal if no gpus installed)\u001b[0m\n",
      "\u001b[34mINFO:sagemaker_xgboost_container.training:Running XGBoost Sagemaker in algorithm mode\u001b[0m\n",
      "\u001b[34mINFO:root:Determined delimiter of CSV input is ','\u001b[0m\n",
      "\u001b[34mINFO:root:Determined delimiter of CSV input is ','\u001b[0m\n",
      "\u001b[34mINFO:root:Determined delimiter of CSV input is ','\u001b[0m\n",
      "\u001b[34mINFO:root:Determined delimiter of CSV input is ','\u001b[0m\n",
      "\u001b[34mINFO:root:Single node training.\u001b[0m\n",
      "\u001b[34m[15:22:50] 121x4 matrix with 484 entries loaded from /opt/ml/input/data/train?format=csv&label_column=0&delimiter=,\u001b[0m\n",
      "\u001b[34m[15:22:50] 31x4 matrix with 124 entries loaded from /opt/ml/input/data/validation?format=csv&label_column=0&delimiter=,\u001b[0m\n",
      "\u001b[34m[2024-07-04 15:22:50.673 ip-10-2-246-86.ec2.internal:7 INFO json_config.py:91] Creating hook from json_config at /opt/ml/input/config/debughookconfig.json.\u001b[0m\n",
      "\u001b[34m[2024-07-04 15:22:50.673 ip-10-2-246-86.ec2.internal:7 INFO hook.py:201] tensorboard_dir has not been set for the hook. SMDebug will not be exporting tensorboard summaries.\u001b[0m\n",
      "\u001b[34m[2024-07-04 15:22:50.673 ip-10-2-246-86.ec2.internal:7 INFO profiler_config_parser.py:102] User has disabled profiler.\u001b[0m\n",
      "\u001b[34m[2024-07-04 15:22:50.674 ip-10-2-246-86.ec2.internal:7 INFO hook.py:255] Saving to /opt/ml/output/tensors\u001b[0m\n",
      "\u001b[34m[2024-07-04 15:22:50.674 ip-10-2-246-86.ec2.internal:7 INFO state_store.py:77] The checkpoint config file /opt/ml/input/config/checkpointconfig.json does not exist.\u001b[0m\n",
      "\u001b[34mINFO:root:Debug hook created from config\u001b[0m\n",
      "\u001b[34mINFO:root:Train matrix has 121 rows\u001b[0m\n",
      "\u001b[34mINFO:root:Validation matrix has 31 rows\u001b[0m\n",
      "\u001b[34m[15:22:50] WARNING: /workspace/src/learner.cc:328: \u001b[0m\n",
      "\u001b[34mParameters: { num_round } might not be used.\n",
      "  This may not be accurate due to some parameters are only used in language bindings but\n",
      "  passed down to XGBoost core.  Or some parameters are not used but slip through this\n",
      "  verification. Please open an issue if you find above cases.\u001b[0m\n",
      "\u001b[34m[0]#011train-merror:0.02479#011validation-merror:0.00000\u001b[0m\n",
      "\u001b[34m[2024-07-04 15:22:50.679 ip-10-2-246-86.ec2.internal:7 INFO hook.py:423] Monitoring the collections: metrics\u001b[0m\n",
      "\u001b[34m[2024-07-04 15:22:50.682 ip-10-2-246-86.ec2.internal:7 INFO hook.py:486] Hook is writing from the hook with pid: 7\u001b[0m\n",
      "\u001b[34m[1]#011train-merror:0.02479#011validation-merror:0.00000\u001b[0m\n",
      "\u001b[34m[2]#011train-merror:0.02479#011validation-merror:0.00000\u001b[0m\n",
      "\u001b[34m[3]#011train-merror:0.02479#011validation-merror:0.00000\u001b[0m\n",
      "\u001b[34m[4]#011train-merror:0.02479#011validation-merror:0.00000\u001b[0m\n",
      "\u001b[34m[5]#011train-merror:0.01653#011validation-merror:0.00000\u001b[0m\n",
      "\u001b[34m[6]#011train-merror:0.01653#011validation-merror:0.00000\u001b[0m\n",
      "\u001b[34m[7]#011train-merror:0.01653#011validation-merror:0.00000\u001b[0m\n",
      "\u001b[34m[8]#011train-merror:0.01653#011validation-merror:0.00000\u001b[0m\n",
      "\u001b[34m[9]#011train-merror:0.01653#011validation-merror:0.00000\u001b[0m\n",
      "\u001b[34m[10]#011train-merror:0.01653#011validation-merror:0.00000\u001b[0m\n",
      "\u001b[34m[11]#011train-merror:0.01653#011validation-merror:0.00000\u001b[0m\n",
      "\u001b[34m[12]#011train-merror:0.00826#011validation-merror:0.00000\u001b[0m\n",
      "\u001b[34m[13]#011train-merror:0.00826#011validation-merror:0.00000\u001b[0m\n",
      "\u001b[34m[14]#011train-merror:0.00000#011validation-merror:0.00000\u001b[0m\n",
      "\u001b[34m[15]#011train-merror:0.00000#011validation-merror:0.00000\u001b[0m\n",
      "\u001b[34m[16]#011train-merror:0.00000#011validation-merror:0.00000\u001b[0m\n",
      "\u001b[34m[17]#011train-merror:0.00000#011validation-merror:0.00000\u001b[0m\n",
      "\u001b[34m[18]#011train-merror:0.00000#011validation-merror:0.00000\u001b[0m\n",
      "\u001b[34m[19]#011train-merror:0.00000#011validation-merror:0.00000\u001b[0m\n",
      "\u001b[34m[20]#011train-merror:0.00000#011validation-merror:0.00000\u001b[0m\n",
      "\u001b[34m[21]#011train-merror:0.00000#011validation-merror:0.00000\u001b[0m\n",
      "\u001b[34m[22]#011train-merror:0.00000#011validation-merror:0.00000\u001b[0m\n",
      "\u001b[34m[23]#011train-merror:0.00000#011validation-merror:0.00000\u001b[0m\n",
      "\u001b[34m[24]#011train-merror:0.00000#011validation-merror:0.00000\u001b[0m\n",
      "\u001b[34m[25]#011train-merror:0.00000#011validation-merror:0.00000\u001b[0m\n",
      "\u001b[34m[26]#011train-merror:0.00000#011validation-merror:0.00000\u001b[0m\n",
      "\u001b[34m[27]#011train-merror:0.00000#011validation-merror:0.00000\u001b[0m\n",
      "\u001b[34m[28]#011train-merror:0.00000#011validation-merror:0.00000\u001b[0m\n",
      "\u001b[34m[29]#011train-merror:0.00000#011validation-merror:0.00000\u001b[0m\n",
      "\u001b[34m[30]#011train-merror:0.00000#011validation-merror:0.00000\u001b[0m\n",
      "\u001b[34m[31]#011train-merror:0.00000#011validation-merror:0.00000\u001b[0m\n",
      "\u001b[34m[32]#011train-merror:0.00000#011validation-merror:0.00000\u001b[0m\n",
      "\u001b[34m[33]#011train-merror:0.00000#011validation-merror:0.00000\u001b[0m\n",
      "\u001b[34m[34]#011train-merror:0.00000#011validation-merror:0.00000\u001b[0m\n",
      "\u001b[34m[35]#011train-merror:0.00000#011validation-merror:0.00000\u001b[0m\n",
      "\u001b[34m[36]#011train-merror:0.00000#011validation-merror:0.00000\u001b[0m\n",
      "\u001b[34m[37]#011train-merror:0.00000#011validation-merror:0.00000\u001b[0m\n",
      "\u001b[34m[38]#011train-merror:0.00000#011validation-merror:0.00000\u001b[0m\n",
      "\u001b[34m[39]#011train-merror:0.00000#011validation-merror:0.00000\u001b[0m\n",
      "\u001b[34m[40]#011train-merror:0.00000#011validation-merror:0.00000\u001b[0m\n",
      "\u001b[34m[41]#011train-merror:0.00000#011validation-merror:0.00000\u001b[0m\n",
      "\u001b[34m[42]#011train-merror:0.00000#011validation-merror:0.00000\u001b[0m\n",
      "\u001b[34m[43]#011train-merror:0.00000#011validation-merror:0.00000\u001b[0m\n",
      "\u001b[34m[44]#011train-merror:0.00000#011validation-merror:0.00000\u001b[0m\n",
      "\u001b[34m[45]#011train-merror:0.00000#011validation-merror:0.00000\u001b[0m\n",
      "\u001b[34m[46]#011train-merror:0.00000#011validation-merror:0.00000\u001b[0m\n",
      "\u001b[34m[47]#011train-merror:0.00000#011validation-merror:0.00000\u001b[0m\n",
      "\u001b[34m[48]#011train-merror:0.00000#011validation-merror:0.00000\u001b[0m\n",
      "\u001b[34m[49]#011train-merror:0.00000#011validation-merror:0.00000\u001b[0m\n",
      "\u001b[34m[50]#011train-merror:0.00000#011validation-merror:0.00000\u001b[0m\n",
      "\u001b[34m[51]#011train-merror:0.00000#011validation-merror:0.00000\u001b[0m\n",
      "\u001b[34m[52]#011train-merror:0.00000#011validation-merror:0.00000\u001b[0m\n",
      "\u001b[34m[53]#011train-merror:0.00000#011validation-merror:0.00000\u001b[0m\n",
      "\u001b[34m[54]#011train-merror:0.00000#011validation-merror:0.00000\u001b[0m\n",
      "\u001b[34m[55]#011train-merror:0.00000#011validation-merror:0.00000\u001b[0m\n",
      "\u001b[34m[56]#011train-merror:0.00000#011validation-merror:0.00000\u001b[0m\n",
      "\u001b[34m[57]#011train-merror:0.00000#011validation-merror:0.00000\u001b[0m\n",
      "\u001b[34m[58]#011train-merror:0.00000#011validation-merror:0.00000\u001b[0m\n",
      "\u001b[34m[59]#011train-merror:0.00000#011validation-merror:0.00000\u001b[0m\n",
      "\u001b[34m[60]#011train-merror:0.00000#011validation-merror:0.00000\u001b[0m\n",
      "\u001b[34m[61]#011train-merror:0.00000#011validation-merror:0.00000\u001b[0m\n",
      "\u001b[34m[62]#011train-merror:0.00000#011validation-merror:0.00000\u001b[0m\n",
      "\u001b[34m[63]#011train-merror:0.00000#011validation-merror:0.00000\u001b[0m\n",
      "\u001b[34m[64]#011train-merror:0.00000#011validation-merror:0.00000\u001b[0m\n",
      "\u001b[34m[65]#011train-merror:0.00000#011validation-merror:0.00000\u001b[0m\n",
      "\u001b[34m[66]#011train-merror:0.00000#011validation-merror:0.00000\u001b[0m\n",
      "\u001b[34m[67]#011train-merror:0.00000#011validation-merror:0.00000\u001b[0m\n",
      "\u001b[34m[68]#011train-merror:0.00000#011validation-merror:0.00000\u001b[0m\n",
      "\u001b[34m[69]#011train-merror:0.00000#011validation-merror:0.00000\u001b[0m\n",
      "\u001b[34m[70]#011train-merror:0.00000#011validation-merror:0.00000\u001b[0m\n",
      "\u001b[34m[71]#011train-merror:0.00000#011validation-merror:0.00000\u001b[0m\n",
      "\u001b[34m[72]#011train-merror:0.00000#011validation-merror:0.00000\u001b[0m\n",
      "\u001b[34m[73]#011train-merror:0.00000#011validation-merror:0.00000\u001b[0m\n",
      "\u001b[34m[74]#011train-merror:0.00000#011validation-merror:0.00000\u001b[0m\n",
      "\u001b[34m[75]#011train-merror:0.00000#011validation-merror:0.00000\u001b[0m\n",
      "\u001b[34m[76]#011train-merror:0.00000#011validation-merror:0.00000\u001b[0m\n",
      "\u001b[34m[77]#011train-merror:0.00000#011validation-merror:0.00000\u001b[0m\n",
      "\u001b[34m[78]#011train-merror:0.00000#011validation-merror:0.00000\u001b[0m\n",
      "\u001b[34m[79]#011train-merror:0.00000#011validation-merror:0.00000\u001b[0m\n",
      "\u001b[34m[80]#011train-merror:0.00000#011validation-merror:0.00000\u001b[0m\n",
      "\u001b[34m[81]#011train-merror:0.00000#011validation-merror:0.00000\u001b[0m\n",
      "\u001b[34m[82]#011train-merror:0.00000#011validation-merror:0.00000\u001b[0m\n",
      "\u001b[34m[83]#011train-merror:0.00000#011validation-merror:0.00000\u001b[0m\n",
      "\u001b[34m[84]#011train-merror:0.00000#011validation-merror:0.00000\u001b[0m\n",
      "\u001b[34m[85]#011train-merror:0.00000#011validation-merror:0.00000\u001b[0m\n",
      "\u001b[34m[86]#011train-merror:0.00000#011validation-merror:0.00000\u001b[0m\n",
      "\u001b[34m[87]#011train-merror:0.00000#011validation-merror:0.00000\u001b[0m\n",
      "\u001b[34m[88]#011train-merror:0.00000#011validation-merror:0.00000\u001b[0m\n",
      "\u001b[34m[89]#011train-merror:0.00000#011validation-merror:0.00000\u001b[0m\n",
      "\u001b[34m[90]#011train-merror:0.00000#011validation-merror:0.00000\u001b[0m\n",
      "\u001b[34m[91]#011train-merror:0.00000#011validation-merror:0.00000\u001b[0m\n",
      "\u001b[34m[92]#011train-merror:0.00000#011validation-merror:0.00000\u001b[0m\n",
      "\u001b[34m[93]#011train-merror:0.00000#011validation-merror:0.00000\u001b[0m\n",
      "\u001b[34m[94]#011train-merror:0.00000#011validation-merror:0.00000\u001b[0m\n",
      "\u001b[34m[95]#011train-merror:0.00000#011validation-merror:0.00000\u001b[0m\n",
      "\u001b[34m[96]#011train-merror:0.00000#011validation-merror:0.00000\u001b[0m\n",
      "\u001b[34m[97]#011train-merror:0.00000#011validation-merror:0.00000\u001b[0m\n",
      "\u001b[34m[98]#011train-merror:0.00000#011validation-merror:0.00000\u001b[0m\n",
      "\u001b[34m[99]#011train-merror:0.00000#011validation-merror:0.00000\u001b[0m\n",
      "\n",
      "2024-07-04 15:23:08 Completed - Training job completed\n",
      "Training seconds: 116\n",
      "Billable seconds: 116\n"
     ]
    }
   ],
   "source": [
    "# Import the SageMaker library\n",
    "import sagemaker\n",
    "\n",
    "# Import the get_execution_role function from SageMaker, which retrieves the current IAM role\n",
    "from sagemaker import get_execution_role\n",
    "\n",
    "# Import the TrainingInput class, used to specify the training data location and format\n",
    "from sagemaker.inputs import TrainingInput \n",
    "\n",
    "# Retrieve the IAM role associated with the SageMaker notebook instance\n",
    "role = get_execution_role()\n",
    "\n",
    "# Specify the S3 location and content type for the training data\n",
    "s3_input_train = TrainingInput(s3_data=f's3://{bucket_name}/train/train.csv', content_type='csv')\n",
    "\n",
    "# Specify the S3 location and content type for the test data\n",
    "s3_input_test = TrainingInput(s3_data=f's3://{bucket_name}/test/test.csv', content_type='csv')\n",
    "\n",
    "\n",
    "# Create an Estimator object for the XGBoost algorithm\n",
    "xgb = sagemaker.estimator.Estimator(\n",
    "    image_uri=sagemaker.image_uris.retrieve('xgboost', boto3.Session().region_name, '1.0-1'),  # Specify the XGBoost container image URI\n",
    "    role=role,  # IAM role to access AWS resources\n",
    "    instance_count=1,  # Number of instances to use for training\n",
    "    instance_type='ml.m4.xlarge',  # Instance type for training (ensure it fits within free tier limits)\n",
    "    output_path=f's3://{bucket_name}/output'  # S3 location to store the output model artifacts\n",
    ")\n",
    "\n",
    "\n",
    "# Set hyperparameters for the XGBoost model\n",
    "xgb.set_hyperparameters(\n",
    "    objective='multi:softmax',  # Objective function for multi-class classification\n",
    "    num_class=3,  # Number of classes in the target variable\n",
    "    num_round=100  # Number of boosting rounds (iterations)\n",
    ")\n",
    "\n",
    "# Start the training job, specifying the training and validation data inputs\n",
    "xgb.fit({'train': s3_input_train, 'validation': s3_input_test})"
   ]
  },
  {
   "cell_type": "markdown",
   "id": "fba36d90-fcdf-4eac-9193-971542e70474",
   "metadata": {},
   "source": [
    "### Deploy the XGBoost Model"
   ]
  },
  {
   "cell_type": "code",
   "execution_count": 9,
   "id": "d9a56811-9a3d-4917-9ae9-a41f6adc3d73",
   "metadata": {
    "tags": []
   },
   "outputs": [
    {
     "name": "stderr",
     "output_type": "stream",
     "text": [
      "INFO:sagemaker:Creating model with name: sagemaker-xgboost-2024-07-04-15-29-01-261\n",
      "INFO:sagemaker:Creating endpoint-config with name sagemaker-xgboost-2024-07-04-15-29-01-261\n",
      "INFO:sagemaker:Creating endpoint with name sagemaker-xgboost-2024-07-04-15-29-01-261\n"
     ]
    },
    {
     "name": "stdout",
     "output_type": "stream",
     "text": [
      "-------!"
     ]
    }
   ],
   "source": [
    "predictor = xgb.deploy(initial_instance_count=1, instance_type='ml.m4.xlarge')"
   ]
  },
  {
   "cell_type": "code",
   "execution_count": 15,
   "id": "0d0347cb-c136-4c99-b860-89e3a4639689",
   "metadata": {
    "tags": []
   },
   "outputs": [
    {
     "data": {
      "text/plain": [
       "'sagemaker-xgboost-2024-07-04-15-29-01-261'"
      ]
     },
     "execution_count": 15,
     "metadata": {},
     "output_type": "execute_result"
    }
   ],
   "source": [
    "predictor.endpoint_name"
   ]
  },
  {
   "cell_type": "markdown",
   "id": "ce7f56d3-49ef-4347-ba5b-df98adf2b107",
   "metadata": {},
   "source": [
    "### Make Predictions"
   ]
  },
  {
   "cell_type": "code",
   "execution_count": 19,
   "id": "c429308f-01c3-4f77-985b-8f1fbec61885",
   "metadata": {
    "tags": []
   },
   "outputs": [],
   "source": [
    "# Import csv serializer\n",
    "from sagemaker.serializers import CSVSerializer\n",
    "\n",
    "# set the serializer type\n",
    "predictor.serializer = CSVSerializer()"
   ]
  },
  {
   "cell_type": "code",
   "execution_count": 20,
   "id": "4f8806ff-02ce-4820-a0f2-6d4eba5f3536",
   "metadata": {
    "tags": []
   },
   "outputs": [
    {
     "name": "stdout",
     "output_type": "stream",
     "text": [
      "b'1.0,0.0,2.0,1.0,1.0,0.0,1.0,2.0,1.0,1.0,2.0,0.0,0.0,0.0,0.0,1.0,2.0,1.0,1.0,2.0,0.0,2.0,0.0,2.0,2.0,2.0,2.0,2.0,0.0,0.0'\n"
     ]
    }
   ],
   "source": [
    "predictions = predictor.predict(X_test.to_numpy())\n",
    "print(predictions)"
   ]
  },
  {
   "cell_type": "code",
   "execution_count": 26,
   "id": "f150cb77-ffa6-4453-a2a0-352e000de19b",
   "metadata": {
    "tags": []
   },
   "outputs": [
    {
     "data": {
      "image/png": "[encoded data removed]",
      "text/plain": [
       "<Figure size 800x600 with 2 Axes>"
      ]
     },
     "metadata": {},
     "output_type": "display_data"
    },
    {
     "name": "stdout",
     "output_type": "stream",
     "text": [
      "Classification Report:\n",
      "              precision    recall  f1-score   support\n",
      "\n",
      "      setosa       1.00      1.00      1.00        10\n",
      "  versicolor       1.00      1.00      1.00         9\n",
      "   virginica       1.00      1.00      1.00        11\n",
      "\n",
      "    accuracy                           1.00        30\n",
      "   macro avg       1.00      1.00      1.00        30\n",
      "weighted avg       1.00      1.00      1.00        30\n",
      "\n",
      "AUC for class setosa: 1.00\n",
      "AUC for class versicolor: 1.00\n",
      "AUC for class virginica: 1.00\n"
     ]
    },
    {
     "data": {
      "image/png": "[encoded data removed]",
      "text/plain": [
       "<Figure size 640x480 with 1 Axes>"
      ]
     },
     "metadata": {},
     "output_type": "display_data"
    }
   ],
   "source": [
    "import numpy as np\n",
    "import matplotlib.pyplot as plt\n",
    "from sklearn.metrics import confusion_matrix, classification_report, roc_auc_score, roc_curve\n",
    "\n",
    "# Convert predictions from byte string to integer array\n",
    "predictions = np.array(predictions.decode('utf-8').split(',')).astype(float).astype(int)\n",
    "\n",
    "# Confusion Matrix\n",
    "conf_matrix = confusion_matrix(y_test, predictions)\n",
    "plt.figure(figsize=(8, 6))\n",
    "plt.imshow(conf_matrix, interpolation='nearest', cmap=plt.cm.Blues)\n",
    "plt.title('Confusion Matrix')\n",
    "plt.colorbar()\n",
    "tick_marks = np.arange(len(iris.target_names))\n",
    "plt.xticks(tick_marks, iris.target_names, rotation=45)\n",
    "plt.yticks(tick_marks, iris.target_names)\n",
    "plt.ylabel('True label')\n",
    "plt.xlabel('Predicted label')\n",
    "plt.tight_layout()\n",
    "plt.show()\n",
    "\n",
    "# Classification Report\n",
    "print(\"Classification Report:\")\n",
    "print(classification_report(y_test, predictions, target_names=iris.target_names))\n",
    "\n",
    "# AUC Score and ROC Curve\n",
    "# Note: AUC calculation requires binary or multilabel-indicator format. This is a multi-class problem.\n",
    "# We'll calculate AUC for each class against the rest.\n",
    "y_test_bin = pd.get_dummies(y_test)\n",
    "y_pred_bin = pd.get_dummies(predictions)\n",
    "\n",
    "# Calculate AUC for each class\n",
    "for i, class_name in enumerate(iris.target_names):\n",
    "    auc = roc_auc_score(y_test_bin.iloc[:, i], y_pred_bin.iloc[:, i])\n",
    "    print(f'AUC for class {class_name}: {auc:.2f}')\n",
    "\n",
    "    # Plot ROC curve\n",
    "    fpr, tpr, _ = roc_curve(y_test_bin.iloc[:, i], y_pred_bin.iloc[:, i])\n",
    "    plt.plot(fpr, tpr, label=f'{class_name} (AUC = {auc:.2f})')\n",
    "\n",
    "plt.plot([0, 1], [0, 1], 'k--')\n",
    "plt.xlabel('False Positive Rate')\n",
    "plt.ylabel('True Positive Rate')\n",
    "plt.title('ROC Curve')\n",
    "plt.legend(loc='best')\n",
    "plt.show()"
   ]
  },
  {
   "cell_type": "markdown",
   "id": "3b2e4668-9ae4-464c-96b7-f6a4df3373ee",
   "metadata": {},
   "source": [
    "### Turn off Endpoint"
   ]
  },
  {
   "cell_type": "code",
   "execution_count": 29,
   "id": "108ada1a-920a-4810-a9ad-fbdb7a6e4761",
   "metadata": {
    "tags": []
   },
   "outputs": [
    {
     "name": "stderr",
     "output_type": "stream",
     "text": [
      "INFO:sagemaker:Deleting model with name: sagemaker-xgboost-2024-07-04-15-29-01-261\n",
      "INFO:sagemaker:Deleting endpoint configuration with name: sagemaker-xgboost-2024-07-04-15-29-01-261\n",
      "INFO:sagemaker:Deleting endpoint with name: sagemaker-xgboost-2024-07-04-15-29-01-261\n"
     ]
    }
   ],
   "source": [
    "predictor.delete_model()\n",
    "predictor.delete_endpoint()"
   ]
  },
  {
   "cell_type": "code",
   "execution_count": null,
   "id": "a31c0ee0-4c6c-452f-a673-5feb2259c853",
   "metadata": {},
   "outputs": [],
   "source": []
  }
 ],
 "metadata": {
  "kernelspec": {
   "display_name": "conda_python3",
   "language": "python",
   "name": "conda_python3"
  },
  "language_info": {
   "codemirror_mode": {
    "name": "ipython",
    "version": 3
   },
   "file_extension": ".py",
   "mimetype": "text/x-python",
   "name": "python",
   "nbconvert_exporter": "python",
   "pygments_lexer": "ipython3",
   "version": "3.10.14"
  }
 },
 "nbformat": 4,
 "nbformat_minor": 5
}
