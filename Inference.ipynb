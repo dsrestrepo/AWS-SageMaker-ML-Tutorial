{
 "cells": [
  {
   "cell_type": "code",
   "execution_count": 1,
   "id": "58678060-96e1-4bbf-94e4-7864a214ce4b",
   "metadata": {
    "tags": []
   },
   "outputs": [],
   "source": [
    "import boto3\n",
    "import json\n",
    "import numpy as np"
   ]
  },
  {
   "cell_type": "code",
   "execution_count": 2,
   "id": "6e3007d6-3aea-4b38-b320-8e0d7d4d6561",
   "metadata": {
    "tags": []
   },
   "outputs": [],
   "source": [
    "# Create a SageMaker runtime client\n",
    "client = boto3.client('sagemaker-runtime')"
   ]
  },
  {
   "cell_type": "markdown",
   "id": "b5f6059c-978a-4a39-bdd2-40bffcd3bff3",
   "metadata": {},
   "source": [
    "### Example 1"
   ]
  },
  {
   "cell_type": "code",
   "execution_count": 3,
   "id": "d4c045b9-e25c-4980-98c6-b4b2762bb686",
   "metadata": {
    "tags": []
   },
   "outputs": [],
   "source": [
    "# Example data point\n",
    "data = np.array([6.1, 2.8, 4.7, 1.2])\n",
    "payload = ','.join(map(str, data))"
   ]
  },
  {
   "cell_type": "code",
   "execution_count": 5,
   "id": "41fa22ac-8d29-427f-b0e2-e0323c5cb391",
   "metadata": {
    "tags": []
   },
   "outputs": [
    {
     "name": "stdout",
     "output_type": "stream",
     "text": [
      "1.0\n"
     ]
    }
   ],
   "source": [
    "# Replace 'your-endpoint-name' with your actual endpoint name\n",
    "response = client.invoke_endpoint(\n",
    "    EndpointName='sagemaker-xgboost-2024-07-04-15-29-01-261',\n",
    "    ContentType='text/csv',\n",
    "    Body=payload\n",
    ")\n",
    "\n",
    "# Parse the response\n",
    "result = response['Body'].read().decode('utf-8')\n",
    "print(result)"
   ]
  },
  {
   "cell_type": "markdown",
   "id": "4b23311f-b8d5-43e6-b617-5082b9677a71",
   "metadata": {},
   "source": [
    "### Example 2"
   ]
  },
  {
   "cell_type": "code",
   "execution_count": 6,
   "id": "4fc6d8c4-cad5-476b-89b3-5e5ff6fe9691",
   "metadata": {
    "tags": []
   },
   "outputs": [],
   "source": [
    "# Example data point\n",
    "data = np.array([5.0, 5.0, 5.0, 5.0])\n",
    "payload = ','.join(map(str, data))"
   ]
  },
  {
   "cell_type": "code",
   "execution_count": 7,
   "id": "274a2e73-85ab-4a8c-8aff-cce35e2ee77c",
   "metadata": {
    "tags": []
   },
   "outputs": [
    {
     "name": "stdout",
     "output_type": "stream",
     "text": [
      "2.0\n"
     ]
    }
   ],
   "source": [
    "# Replace 'your-endpoint-name' with your actual endpoint name\n",
    "response = client.invoke_endpoint(\n",
    "    EndpointName='sagemaker-xgboost-2024-07-04-15-29-01-261',\n",
    "    ContentType='text/csv',\n",
    "    Body=payload\n",
    ")\n",
    "\n",
    "# Parse the response\n",
    "result = response['Body'].read().decode('utf-8')\n",
    "print(result)"
   ]
  },
  {
   "cell_type": "code",
   "execution_count": null,
   "id": "85d66ad6-915d-4453-abdf-e493e1bb66b1",
   "metadata": {},
   "outputs": [],
   "source": []
  }
 ],
 "metadata": {
  "kernelspec": {
   "display_name": "conda_python3",
   "language": "python",
   "name": "conda_python3"
  },
  "language_info": {
   "codemirror_mode": {
    "name": "ipython",
    "version": 3
   },
   "file_extension": ".py",
   "mimetype": "text/x-python",
   "name": "python",
   "nbconvert_exporter": "python",
   "pygments_lexer": "ipython3",
   "version": "3.10.14"
  }
 },
 "nbformat": 4,
 "nbformat_minor": 5
}
